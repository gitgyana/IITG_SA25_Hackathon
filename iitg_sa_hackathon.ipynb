{
 "cells": [
  {
   "cell_type": "code",
   "execution_count": 3,
   "id": "1f0d504d-8061-4668-84ad-24876a54e79d",
   "metadata": {},
   "outputs": [
    {
     "name": "stdout",
     "output_type": "stream",
     "text": [
      "📊 Validation Accuracy: 92.94%\n",
      "✅ Submission saved at submission_old.csv\n"
     ]
    }
   ],
   "source": [
    "# ──────── 1) Import Libraries ────────\n",
    "import pandas as pd\n",
    "import numpy as np\n",
    "from scipy.stats import skew, kurtosis\n",
    "from sklearn.ensemble import RandomForestClassifier\n",
    "from sklearn.linear_model import LinearRegression\n",
    "from sklearn.model_selection import train_test_split\n",
    "from sklearn.metrics import accuracy_score\n",
    "\n",
    "# ──────── 2) Load Data ────────\n",
    "train_df = pd.read_csv(\"kaggle/input/summer-analytics-mid-hackathon/hacktrain.csv\")\n",
    "test_df = pd.read_csv(\"kaggle/input/summer-analytics-mid-hackathon/hacktest.csv\")\n",
    "\n",
    "# ──────── 3) Drop Unnecessary Column ────────\n",
    "train_df.drop(columns=[\"Unnamed: 0\"], inplace=True)\n",
    "test_df.drop(columns=[\"Unnamed: 0\"], inplace=True)\n",
    "\n",
    "# ──────── 4) Prepare Data ────────\n",
    "X = train_df.drop(columns=[\"ID\", \"class\"])\n",
    "y = train_df[\"class\"]\n",
    "\n",
    "test_ids = test_df[\"ID\"]\n",
    "X_test = test_df.drop(columns=[\"ID\"])\n",
    "\n",
    "# ──────── 4.1) Identify NDVI Columns ────────\n",
    "ndvi_cols = [col for col in X.columns if '_N' in col]\n",
    "\n",
    "# ──────── 4.2) Feature Engineering Function ────────\n",
    "def add_features(df):\n",
    "    df['ndvi_mean'] = df[ndvi_cols].mean(axis=1)\n",
    "    df['ndvi_std'] = df[ndvi_cols].std(axis=1)\n",
    "    df['ndvi_min'] = df[ndvi_cols].min(axis=1)\n",
    "    df['ndvi_max'] = df[ndvi_cols].max(axis=1)\n",
    "    df['ndvi_range'] = df['ndvi_max'] - df['ndvi_min']\n",
    "    df['ndvi_median'] = df[ndvi_cols].median(axis=1)\n",
    "    df['ndvi_q25'] = df[ndvi_cols].quantile(0.25, axis=1)\n",
    "    df['ndvi_q75'] = df[ndvi_cols].quantile(0.75, axis=1)\n",
    "    df['ndvi_iqr'] = df['ndvi_q75'] - df['ndvi_q25']\n",
    "    df['ndvi_skew'] = df[ndvi_cols].apply(lambda x: skew(x.dropna()), axis=1)\n",
    "    df['ndvi_kurtosis'] = df[ndvi_cols].apply(lambda x: kurtosis(x.dropna()), axis=1)\n",
    "\n",
    "    # NDVI trend (slope)\n",
    "    def compute_slope(row):\n",
    "        y = row[ndvi_cols].values.reshape(-1, 1)\n",
    "        if np.any(np.isnan(y)): return 0\n",
    "        X_vals = np.arange(len(ndvi_cols)).reshape(-1, 1)\n",
    "        model = LinearRegression().fit(X_vals, y)\n",
    "        return model.coef_[0][0]\n",
    "\n",
    "    df['ndvi_trend'] = df.apply(compute_slope, axis=1)\n",
    "    return df\n",
    "\n",
    "# ──────── 4.3) Apply Feature Engineering ────────\n",
    "X = add_features(X)\n",
    "X_test = add_features(X_test)\n",
    "\n",
    "# ──────── 5) Handle Missing Values ────────\n",
    "X.fillna(X.mean(), inplace=True)\n",
    "X_test.fillna(X_test.mean(), inplace=True)\n",
    "\n",
    "# ──────── 6) Train/Test Split ────────\n",
    "X_train, X_val, y_train, y_val = train_test_split(X, y, test_size=0.2, random_state=42)\n",
    "\n",
    "# ──────── 7) Train Model ────────\n",
    "model = RandomForestClassifier(n_estimators=100, random_state=42)\n",
    "model.fit(X_train, y_train)\n",
    "\n",
    "# ──────── 8) Evaluate ────────\n",
    "y_val_pred = model.predict(X_val)\n",
    "val_acc = accuracy_score(y_val, y_val_pred)\n",
    "print(f\"📊 Validation Accuracy: {val_acc * 100:.2f}%\")\n",
    "\n",
    "# ──────── 9) Predict on Test Set ────────\n",
    "y_test_pred = model.predict(X_test)\n",
    "\n",
    "# ──────── 10) Save Submission ────────\n",
    "submission = pd.DataFrame({\n",
    "    \"ID\": test_ids,\n",
    "    \"class\": y_test_pred\n",
    "})\n",
    "submission.to_csv(\"submission_old.csv\", index=False)\n",
    "print(\"✅ Submission saved at submission_old.csv\")\n"
   ]
  },
  {
   "cell_type": "raw",
   "id": "ca82fff5-2384-4d3e-ae96-4f2bee79115f",
   "metadata": {},
   "source": [
    "📊 Validation Accuracy: 92.94%\n",
    "✅ Submission saved at submission_old.csv"
   ]
  }
 ],
 "metadata": {
  "colab": {
   "provenance": []
  },
  "kaggle": {
   "accelerator": "none",
   "dataSources": [
    {
     "databundleVersionId": 12585144,
     "sourceId": 104491,
     "sourceType": "competition"
    }
   ],
   "dockerImageVersionId": 31040,
   "isGpuEnabled": false,
   "isInternetEnabled": true,
   "language": "python",
   "sourceType": "notebook"
  },
  "kernelspec": {
   "display_name": "Python 3 (ipykernel)",
   "language": "python",
   "name": "python3"
  },
  "language_info": {
   "codemirror_mode": {
    "name": "ipython",
    "version": 3
   },
   "file_extension": ".py",
   "mimetype": "text/x-python",
   "name": "python",
   "nbconvert_exporter": "python",
   "pygments_lexer": "ipython3",
   "version": "3.12.7"
  },
  "papermill": {
   "default_parameters": {},
   "duration": 12.460836,
   "end_time": "2025-06-04T15:58:22.939774",
   "environment_variables": {},
   "exception": null,
   "input_path": "__notebook__.ipynb",
   "output_path": "__notebook__.ipynb",
   "parameters": {},
   "start_time": "2025-06-04T15:58:10.478938",
   "version": "2.6.0"
  }
 },
 "nbformat": 4,
 "nbformat_minor": 5
}
